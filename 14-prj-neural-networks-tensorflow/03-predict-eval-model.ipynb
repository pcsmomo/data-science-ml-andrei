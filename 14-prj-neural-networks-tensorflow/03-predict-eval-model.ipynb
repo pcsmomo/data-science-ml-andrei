{
  "cells": [
    {
      "cell_type": "code",
      "execution_count": 1,
      "metadata": {
        "colab": {
          "base_uri": "https://localhost:8080/"
        },
        "id": "JXk21dwtySRX",
        "outputId": "01db052f-3cdf-4d43-df93-ecdf2888bcb6"
      },
      "outputs": [
        {
          "output_type": "stream",
          "name": "stdout",
          "text": [
            "TF version: 2.9.2\n",
            "TF Hub version: 0.12.0\n",
            "GPU available (YESSSS!!!!!)\n"
          ]
        }
      ],
      "source": [
        "# Import necessary tools\n",
        "import tensorflow as tf\n",
        "import tensorflow_hub as hub \n",
        "print(\"TF version:\", tf.__version__)\n",
        "print(\"TF Hub version:\", hub.__version__)\n",
        "\n",
        "# Check for GPU availability\n",
        "print(\"GPU\", \"available (YESSSS!!!!!)\" if tf.config.list_physical_devices(\"GPU\") else \"not available :(\")"
      ]
    },
    {
      "cell_type": "markdown",
      "metadata": {
        "id": "pVBL0DjaLOED"
      },
      "source": [
        "## Getting our data ready (turning into Tensors)\n",
        "\n",
        "With all machine learning models, our data has to be in numerical format. So that's what we'll be doing first. Turning our images into Tensors (numerical representations).\n",
        "\n",
        "Let's start by accessing our data and checking out the labels."
      ]
    },
    {
      "cell_type": "code",
      "execution_count": 2,
      "metadata": {
        "colab": {
          "base_uri": "https://localhost:8080/"
        },
        "id": "gKeiQqQOdyke",
        "outputId": "eb12c705-635c-4980-fdd2-861a8aa2901d"
      },
      "outputs": [
        {
          "output_type": "stream",
          "name": "stdout",
          "text": [
            "Mounted at /content/drive\n"
          ]
        }
      ],
      "source": [
        "from google.colab import drive\n",
        "drive.mount('/content/drive')"
      ]
    },
    {
      "cell_type": "code",
      "execution_count": 3,
      "metadata": {
        "id": "zTdawtZveDpr"
      },
      "outputs": [],
      "source": [
        "DATA_PATH = \"drive/MyDrive/Colab Notebooks/data/dog-vision\"\n",
        "# \"drive/My Drive/Dog Vision\""
      ]
    },
    {
      "cell_type": "code",
      "execution_count": 4,
      "metadata": {
        "id": "li0gOTcULS6x"
      },
      "outputs": [],
      "source": [
        "# Checkout the labels of our data\n",
        "import pandas as pd\n",
        "labels_csv = pd.read_csv(f\"{DATA_PATH}/labels.csv\")"
      ]
    },
    {
      "cell_type": "markdown",
      "metadata": {
        "id": "8zNHIfJyetdC"
      },
      "source": [
        "### Getting images and their labels \n",
        "\n",
        "Let's get a list of all of our image file pathnames."
      ]
    },
    {
      "cell_type": "code",
      "execution_count": 5,
      "metadata": {
        "id": "FIPj4LcdPftF"
      },
      "outputs": [],
      "source": [
        "# Create pathnames from imageID's\n",
        "filenames = [f\"{DATA_PATH}/train/{fname}.jpg\" for fname in labels_csv[\"id\"]]"
      ]
    },
    {
      "cell_type": "code",
      "execution_count": 6,
      "metadata": {
        "colab": {
          "base_uri": "https://localhost:8080/"
        },
        "id": "PI88t6UUQAOF",
        "outputId": "23fd19b6-80b2-4ddf-f050-6275bca65d6d"
      },
      "outputs": [
        {
          "output_type": "stream",
          "name": "stdout",
          "text": [
            "Filenames match actual amount of files!!! Proceed.\n"
          ]
        }
      ],
      "source": [
        "# Check weather number of filenames matches number of actual image files\n",
        "import os\n",
        "if len(os.listdir(f\"{DATA_PATH}/train/\")) == len(filenames):\n",
        "  print(\"Filenames match actual amount of files!!! Proceed.\")\n",
        "else:\n",
        "  print(\"Filenames do no match actual amount of files, check the target directory.\")"
      ]
    },
    {
      "cell_type": "markdown",
      "metadata": {
        "id": "zgW-tzq7enNp"
      },
      "source": [
        "Since we've now got our training image filepaths in a list, let's prepare our labels"
      ]
    },
    {
      "cell_type": "code",
      "execution_count": 7,
      "metadata": {
        "colab": {
          "base_uri": "https://localhost:8080/"
        },
        "id": "azJZR9H7Ta2A",
        "outputId": "594745a0-1bc8-4dcb-e833-c5344070451d"
      },
      "outputs": [
        {
          "output_type": "execute_result",
          "data": {
            "text/plain": [
              "array(['boston_bull', 'dingo', 'pekinese', ..., 'airedale',\n",
              "       'miniature_pinscher', 'chesapeake_bay_retriever'], dtype=object)"
            ]
          },
          "metadata": {},
          "execution_count": 7
        }
      ],
      "source": [
        "import numpy as np\n",
        "labels = labels_csv[\"breed\"].to_numpy() \n",
        "# labels = np.array(labels) # does same thing as above\n",
        "labels"
      ]
    },
    {
      "cell_type": "code",
      "execution_count": 8,
      "metadata": {
        "colab": {
          "base_uri": "https://localhost:8080/"
        },
        "id": "BmnY040cTfau",
        "outputId": "7a940f96-d121-4716-8c50-b36da57056cc"
      },
      "outputs": [
        {
          "output_type": "stream",
          "name": "stdout",
          "text": [
            "Number of labels matches number of filenames!\n"
          ]
        }
      ],
      "source": [
        "# See if number of labels matches the number of filenames\n",
        "if len(labels) == len(filenames):\n",
        "  print(\"Number of labels matches number of filenames!\")\n",
        "else:\n",
        "  print(\"Number of labels does not match number of filenames, check data directories!\")"
      ]
    },
    {
      "cell_type": "code",
      "execution_count": 9,
      "metadata": {
        "id": "ReKkinxFUXzb"
      },
      "outputs": [],
      "source": [
        "# Find the unique label values\n",
        "unique_breeds = np.unique(labels)\n",
        "\n",
        "# Turn every label into a boolean array\n",
        "boolean_labels = [label == unique_breeds for label in labels]"
      ]
    },
    {
      "cell_type": "markdown",
      "metadata": {
        "id": "uzIUTkhALL6g"
      },
      "source": [
        "### Creating our own validation set\n",
        "Since the dataset from Kaggle doesn't come with a validation set, we're going to create our own."
      ]
    },
    {
      "cell_type": "code",
      "execution_count": 10,
      "metadata": {
        "id": "oxAIO0vYLOL3"
      },
      "outputs": [],
      "source": [
        "# Setup X & y variables\n",
        "X = filenames\n",
        "y = boolean_labels"
      ]
    },
    {
      "cell_type": "markdown",
      "metadata": {
        "id": "pUBaq7yJLl3w"
      },
      "source": [
        "We're going to start off experimenting with ~1000 images and increase as needed."
      ]
    },
    {
      "cell_type": "code",
      "execution_count": 11,
      "metadata": {
        "id": "5hyr75V4Lpzg"
      },
      "outputs": [],
      "source": [
        "# Set number of images to use for experimenting\n",
        "NUM_IMAGES = 1000 #@param {type:\"slider\", min:1000, max:10000, step:1000}"
      ]
    },
    {
      "cell_type": "code",
      "execution_count": 12,
      "metadata": {
        "colab": {
          "base_uri": "https://localhost:8080/"
        },
        "id": "-VxDExTgL-8x",
        "outputId": "b1001003-bc4c-4457-ee42-d045b392744a"
      },
      "outputs": [
        {
          "output_type": "execute_result",
          "data": {
            "text/plain": [
              "(800, 800, 200, 200)"
            ]
          },
          "metadata": {},
          "execution_count": 12
        }
      ],
      "source": [
        "# Let's split our data into train and validation sets\n",
        "from sklearn.model_selection import train_test_split\n",
        "\n",
        "# Split them into training and validation of total size NUM_IMAGES\n",
        "X_train, X_val, y_train, y_val = train_test_split(X[:NUM_IMAGES],\n",
        "                                                  y[:NUM_IMAGES],\n",
        "                                                  test_size=0.2,\n",
        "                                                  random_state=42)\n",
        "\n",
        "len(X_train), len(y_train), len(X_val), len(y_val)"
      ]
    },
    {
      "cell_type": "markdown",
      "metadata": {
        "id": "dlJ9_DSRfAFf"
      },
      "source": [
        "## Preprocessing Images (turning images into Tensors)\n",
        "\n",
        "To preprocess our images into Tensors we're going to write a function which does a few things:\n",
        "1. Take an image filepath as input\n",
        "2. Use TensorFlow to read the file and save it to a variable, `image`\n",
        "3. Turn our `image` (a jpg) into Tensors\n",
        "4. Normalize our image (convert color channel values from 0-255 to 0-1).\n",
        "5. Resize the `image` to be a shape of (224, 224)\n",
        "6. Return the modified `image`\n",
        "\n",
        "Before we do, let's see what importing an image looks like."
      ]
    },
    {
      "cell_type": "code",
      "execution_count": 13,
      "metadata": {
        "id": "uywBPKEXdO7D"
      },
      "outputs": [],
      "source": [
        "# Define image size\n",
        "IMG_SIZE = 224\n",
        "\n",
        "# Create a function for preprocessing images\n",
        "def process_image(image_path, img_size=IMG_SIZE):\n",
        "  \"\"\"\n",
        "  Takes an image file path and turns the image into a Tensor.\n",
        "  \"\"\"\n",
        "  # Read in an image file\n",
        "  image = tf.io.read_file(image_path)\n",
        "  # Turn the jpeg image into numerical Tensor with 3 colour channels (Red, Green, Blue)\n",
        "  image = tf.image.decode_jpeg(image, channels=3)\n",
        "  # Convert the colour channel values from 0-255 to 0-1 values\n",
        "  image = tf.image.convert_image_dtype(image, tf.float32)\n",
        "  # Resize the image to our desired value (224, 224)\n",
        "  image = tf.image.resize(image, size=[IMG_SIZE, IMG_SIZE])\n",
        "\n",
        "  return image"
      ]
    },
    {
      "cell_type": "markdown",
      "metadata": {
        "id": "iqecJ_R0fLNb"
      },
      "source": [
        "## Turning our data into batches\n",
        "\n",
        "Why turn our data into batches?\n",
        "\n",
        "Let's say you're trying to process 10,000+ images in one go... they all might not fit into memory.\n",
        "\n",
        "So that's why we do about 32 (this is the batch size) images at a time (you can manually adjust the batch size if need be).\n",
        "\n",
        "In order to use TensorFlow effectively, we need our data in the form of Tensor tuples which look like this: \n",
        "`(image, label)`."
      ]
    },
    {
      "cell_type": "code",
      "execution_count": 14,
      "metadata": {
        "id": "3L8Kt6HhdO7D"
      },
      "outputs": [],
      "source": [
        "# Create a simple function to return a tuple (image, label)\n",
        "def get_image_label(image_path, label):\n",
        "  \"\"\"\n",
        "  Takes an image file path name and the assosciated label,\n",
        "  processes the image and reutrns a typle of (image, label).\n",
        "  \"\"\"\n",
        "  image = process_image(image_path)\n",
        "  return image, label"
      ]
    },
    {
      "cell_type": "markdown",
      "metadata": {
        "id": "ugehOjKmfUs4"
      },
      "source": [
        "Now we've got a way to turn our data into tuples of Tensors in the form: `(image, label)`, let's make a function to turn all of our data (`X` & `y`) into batches!"
      ]
    },
    {
      "cell_type": "code",
      "execution_count": 15,
      "metadata": {
        "id": "cdKrLRSOdO7D"
      },
      "outputs": [],
      "source": [
        "# Define the batch size, 32 is a good start\n",
        "BATCH_SIZE = 32\n",
        "\n",
        "# Create a function to turn data into batches\n",
        "def create_data_batches(X, y=None, batch_size=BATCH_SIZE, valid_data=False, test_data=False):\n",
        "  \"\"\"\n",
        "  Creates batches of data out of image (X) and label (y) pairs.\n",
        "  Shuffles the data if it's training data but doesn't shuffle if it's validation data.\n",
        "  Also accepts test data as input (no labels).\n",
        "  \"\"\"\n",
        "  # If the data is a test dataset, we probably don't have have labels\n",
        "  if test_data:\n",
        "    print(\"Creating test data batches...\")\n",
        "    data = tf.data.Dataset.from_tensor_slices((tf.constant(X))) # only filepaths (no labels)\n",
        "    data_batch = data.map(process_image).batch(batch_size)\n",
        "  \n",
        "  # If the data is a valid dataset, we don't need to shuffle it\n",
        "  elif valid_data:\n",
        "    print(\"Creating validation data batches...\")\n",
        "    data = tf.data.Dataset.from_tensor_slices((tf.constant(X), # filepaths\n",
        "                                               tf.constant(y))) # labels\n",
        "    data_batch = data.map(get_image_label).batch(batch_size)\n",
        "\n",
        "  else:\n",
        "    print(\"Creating training data batches...\")\n",
        "    # Turn filepaths and labels into Tensors\n",
        "    data = tf.data.Dataset.from_tensor_slices((tf.constant(X),\n",
        "                                               tf.constant(y)))\n",
        "    # Shuffling pathnames and labels before mapping image processor function is faster than shuffling images\n",
        "    data = data.shuffle(buffer_size=len(X))\n",
        "\n",
        "    # Create (image, label) tuples (this also turns the iamge path into a preprocessed image)\n",
        "    data = data.map(get_image_label)\n",
        "\n",
        "    # Turn the training data into batches\n",
        "    data_batch = data.batch(batch_size)\n",
        "  return data_batch"
      ]
    },
    {
      "cell_type": "code",
      "execution_count": 16,
      "metadata": {
        "colab": {
          "base_uri": "https://localhost:8080/"
        },
        "id": "WefkDlU8dO7E",
        "outputId": "780b14fe-e50d-4731-cb74-c4479227da95"
      },
      "outputs": [
        {
          "output_type": "stream",
          "name": "stdout",
          "text": [
            "Creating training data batches...\n",
            "Creating validation data batches...\n"
          ]
        }
      ],
      "source": [
        "# Create training and validation data batches\n",
        "train_data = create_data_batches(X_train, y_train)\n",
        "val_data = create_data_batches(X_val, y_val, valid_data=True)"
      ]
    },
    {
      "cell_type": "code",
      "execution_count": 17,
      "metadata": {
        "id": "VQlO7KiBSWEk"
      },
      "outputs": [],
      "source": [
        "# Create a function to load a trained model\n",
        "def load_model(model_path):\n",
        "  \"\"\"\n",
        "  Loads a saved model from a specified path.\n",
        "  \"\"\"\n",
        "  print(f\"Loading saved model from: {model_path}\")\n",
        "  model = tf.keras.models.load_model(model_path, \n",
        "                                     custom_objects={\"KerasLayer\":hub.KerasLayer})\n",
        "  return model"
      ]
    },
    {
      "cell_type": "code",
      "execution_count": 18,
      "metadata": {
        "colab": {
          "base_uri": "https://localhost:8080/"
        },
        "id": "jAGFSdqfSavp",
        "outputId": "5de22afc-9701-42ad-809e-d1f38de0e77d"
      },
      "outputs": [
        {
          "output_type": "stream",
          "name": "stdout",
          "text": [
            "Loading saved model from: drive/MyDrive/Colab Notebooks/data/dog-vision/models/20230130-05511675057901-1000-images-mobilenetv2-Adam.h5\n"
          ]
        }
      ],
      "source": [
        "# Load a trained model\n",
        "loaded_1000_image_model = load_model(f\"{DATA_PATH}/models/20230130-05511675057901-1000-images-mobilenetv2-Adam.h5\")"
      ]
    },
    {
      "cell_type": "markdown",
      "source": [
        "---"
      ],
      "metadata": {
        "id": "kPGNEGMZY-Sd"
      }
    }
  ],
  "metadata": {
    "accelerator": "GPU",
    "colab": {
      "provenance": []
    },
    "gpuClass": "standard",
    "kernelspec": {
      "display_name": "Python 3",
      "language": "python",
      "name": "python3"
    },
    "language_info": {
      "name": "python",
      "version": "3.10.8 (main, Nov 24 2022, 08:08:27) [Clang 14.0.6 ]"
    },
    "vscode": {
      "interpreter": {
        "hash": "434d186b2765b94255b656aa41f17eff7bec9ec240788e87583f679a1c7ef224"
      }
    }
  },
  "nbformat": 4,
  "nbformat_minor": 0
}