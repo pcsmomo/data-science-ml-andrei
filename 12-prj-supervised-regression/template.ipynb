{
 "cells": [
  {
   "cell_type": "code",
   "execution_count": 1,
   "metadata": {},
   "outputs": [],
   "source": [
    "import numpy as np\n",
    "import pandas as pd\n",
    "import matplotlib.pyplot as plt\n",
    "import sklearn"
   ]
  },
  {
   "cell_type": "code",
   "execution_count": 2,
   "id": "cddef60a",
   "metadata": {},
   "outputs": [],
   "source": [
    "# Import training and validation sets (modified)\n",
    "df_tmp = pd.read_csv(\"../data/bluebook-for-bulldozers/TrainAndValid-after-01.csv\",\n",
    "                 low_memory=False,\n",
    "                 parse_dates=[\"saledate\"])"
   ]
  },
  {
   "cell_type": "code",
   "execution_count": null,
   "id": "f1b5cfad",
   "metadata": {},
   "outputs": [],
   "source": [
    "# Import training and validation sets (modified)\n",
    "df_tmp = pd.read_csv(\"../data/bluebook-for-bulldozers/TrainAndValid-after-02.csv\",\n",
    "                 low_memory=False)"
   ]
  }
 ],
 "metadata": {
  "kernelspec": {
   "display_name": "Python 3",
   "language": "python",
   "name": "python3"
  },
  "language_info": {
   "codemirror_mode": {
    "name": "ipython",
    "version": 3
   },
   "file_extension": ".py",
   "mimetype": "text/x-python",
   "name": "python",
   "nbconvert_exporter": "python",
   "pygments_lexer": "ipython3",
   "version": "3.10.8"
  },
  "vscode": {
   "interpreter": {
    "hash": "434d186b2765b94255b656aa41f17eff7bec9ec240788e87583f679a1c7ef224"
   }
  }
 },
 "nbformat": 4,
 "nbformat_minor": 5
}
