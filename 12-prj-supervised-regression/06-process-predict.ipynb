{
 "cells": [
  {
   "cell_type": "code",
   "execution_count": 1,
   "metadata": {},
   "outputs": [],
   "source": [
    "import numpy as np\n",
    "import pandas as pd\n",
    "import matplotlib.pyplot as plt\n",
    "import sklearn"
   ]
  },
  {
   "cell_type": "code",
   "execution_count": 2,
   "id": "cddef60a",
   "metadata": {},
   "outputs": [],
   "source": [
    "# Import training and validation sets (modified)\n",
    "df_tmp = pd.read_csv(\"../data/bluebook-for-bulldozers/TrainAndValid-after-04.csv\",\n",
    "                 low_memory=False)"
   ]
  },
  {
   "cell_type": "code",
   "execution_count": 3,
   "id": "8cdb02f3",
   "metadata": {},
   "outputs": [
    {
     "data": {
      "text/plain": [
       "(11573, 401125)"
      ]
     },
     "execution_count": 3,
     "metadata": {},
     "output_type": "execute_result"
    }
   ],
   "source": [
    "# Split data into training and validation\n",
    "df_val = df_tmp[df_tmp.saleYear == 2012]\n",
    "df_train = df_tmp[df_tmp.saleYear != 2012]\n",
    "\n",
    "len(df_val), len(df_train)"
   ]
  },
  {
   "cell_type": "code",
   "execution_count": 4,
   "id": "f1b5cfad",
   "metadata": {},
   "outputs": [
    {
     "data": {
      "text/plain": [
       "((401125, 102), (401125,), (11573, 102), (11573,))"
      ]
     },
     "execution_count": 4,
     "metadata": {},
     "output_type": "execute_result"
    }
   ],
   "source": [
    "# Split data into X & y\n",
    "X_train, y_train = df_train.drop(\"SalePrice\", axis=1), df_train[\"SalePrice\"]\n",
    "X_valid, y_valid = df_val.drop(\"SalePrice\", axis=1), df_val[\"SalePrice\"]\n",
    "\n",
    "X_train.shape, y_train.shape, X_valid.shape, y_valid.shape"
   ]
  },
  {
   "cell_type": "code",
   "execution_count": 5,
   "id": "0883f74a",
   "metadata": {},
   "outputs": [],
   "source": [
    "import pickle\n",
    "\n",
    "# Load a saved model\n",
    "ideal_model = pickle.load(open(\"05_ideal_random_forest_regressor_model.pkl\", \"rb\"))"
   ]
  },
  {
   "cell_type": "markdown",
   "id": "408efb5c",
   "metadata": {},
   "source": [
    "## Make predictions on test data"
   ]
  },
  {
   "cell_type": "code",
   "execution_count": 6,
   "id": "29dd5373",
   "metadata": {},
   "outputs": [
    {
     "data": {
      "text/html": [
       "<div>\n",
       "<style scoped>\n",
       "    .dataframe tbody tr th:only-of-type {\n",
       "        vertical-align: middle;\n",
       "    }\n",
       "\n",
       "    .dataframe tbody tr th {\n",
       "        vertical-align: top;\n",
       "    }\n",
       "\n",
       "    .dataframe thead th {\n",
       "        text-align: right;\n",
       "    }\n",
       "</style>\n",
       "<table border=\"1\" class=\"dataframe\">\n",
       "  <thead>\n",
       "    <tr style=\"text-align: right;\">\n",
       "      <th></th>\n",
       "      <th>SalesID</th>\n",
       "      <th>MachineID</th>\n",
       "      <th>ModelID</th>\n",
       "      <th>datasource</th>\n",
       "      <th>auctioneerID</th>\n",
       "      <th>YearMade</th>\n",
       "      <th>MachineHoursCurrentMeter</th>\n",
       "      <th>UsageBand</th>\n",
       "      <th>saledate</th>\n",
       "      <th>fiModelDesc</th>\n",
       "      <th>...</th>\n",
       "      <th>Undercarriage_Pad_Width</th>\n",
       "      <th>Stick_Length</th>\n",
       "      <th>Thumb</th>\n",
       "      <th>Pattern_Changer</th>\n",
       "      <th>Grouser_Type</th>\n",
       "      <th>Backhoe_Mounting</th>\n",
       "      <th>Blade_Type</th>\n",
       "      <th>Travel_Controls</th>\n",
       "      <th>Differential_Type</th>\n",
       "      <th>Steering_Controls</th>\n",
       "    </tr>\n",
       "  </thead>\n",
       "  <tbody>\n",
       "    <tr>\n",
       "      <th>0</th>\n",
       "      <td>1227829</td>\n",
       "      <td>1006309</td>\n",
       "      <td>3168</td>\n",
       "      <td>121</td>\n",
       "      <td>3</td>\n",
       "      <td>1999</td>\n",
       "      <td>3688.0</td>\n",
       "      <td>Low</td>\n",
       "      <td>2012-05-03</td>\n",
       "      <td>580G</td>\n",
       "      <td>...</td>\n",
       "      <td>NaN</td>\n",
       "      <td>NaN</td>\n",
       "      <td>NaN</td>\n",
       "      <td>NaN</td>\n",
       "      <td>NaN</td>\n",
       "      <td>NaN</td>\n",
       "      <td>NaN</td>\n",
       "      <td>NaN</td>\n",
       "      <td>NaN</td>\n",
       "      <td>NaN</td>\n",
       "    </tr>\n",
       "    <tr>\n",
       "      <th>1</th>\n",
       "      <td>1227844</td>\n",
       "      <td>1022817</td>\n",
       "      <td>7271</td>\n",
       "      <td>121</td>\n",
       "      <td>3</td>\n",
       "      <td>1000</td>\n",
       "      <td>28555.0</td>\n",
       "      <td>High</td>\n",
       "      <td>2012-05-10</td>\n",
       "      <td>936</td>\n",
       "      <td>...</td>\n",
       "      <td>NaN</td>\n",
       "      <td>NaN</td>\n",
       "      <td>NaN</td>\n",
       "      <td>NaN</td>\n",
       "      <td>NaN</td>\n",
       "      <td>NaN</td>\n",
       "      <td>NaN</td>\n",
       "      <td>NaN</td>\n",
       "      <td>Standard</td>\n",
       "      <td>Conventional</td>\n",
       "    </tr>\n",
       "    <tr>\n",
       "      <th>2</th>\n",
       "      <td>1227847</td>\n",
       "      <td>1031560</td>\n",
       "      <td>22805</td>\n",
       "      <td>121</td>\n",
       "      <td>3</td>\n",
       "      <td>2004</td>\n",
       "      <td>6038.0</td>\n",
       "      <td>Medium</td>\n",
       "      <td>2012-05-10</td>\n",
       "      <td>EC210BLC</td>\n",
       "      <td>...</td>\n",
       "      <td>None or Unspecified</td>\n",
       "      <td>9' 6\"</td>\n",
       "      <td>Manual</td>\n",
       "      <td>None or Unspecified</td>\n",
       "      <td>Double</td>\n",
       "      <td>NaN</td>\n",
       "      <td>NaN</td>\n",
       "      <td>NaN</td>\n",
       "      <td>NaN</td>\n",
       "      <td>NaN</td>\n",
       "    </tr>\n",
       "    <tr>\n",
       "      <th>3</th>\n",
       "      <td>1227848</td>\n",
       "      <td>56204</td>\n",
       "      <td>1269</td>\n",
       "      <td>121</td>\n",
       "      <td>3</td>\n",
       "      <td>2006</td>\n",
       "      <td>8940.0</td>\n",
       "      <td>High</td>\n",
       "      <td>2012-05-10</td>\n",
       "      <td>330CL</td>\n",
       "      <td>...</td>\n",
       "      <td>None or Unspecified</td>\n",
       "      <td>None or Unspecified</td>\n",
       "      <td>Manual</td>\n",
       "      <td>Yes</td>\n",
       "      <td>Triple</td>\n",
       "      <td>NaN</td>\n",
       "      <td>NaN</td>\n",
       "      <td>NaN</td>\n",
       "      <td>NaN</td>\n",
       "      <td>NaN</td>\n",
       "    </tr>\n",
       "    <tr>\n",
       "      <th>4</th>\n",
       "      <td>1227863</td>\n",
       "      <td>1053887</td>\n",
       "      <td>22312</td>\n",
       "      <td>121</td>\n",
       "      <td>3</td>\n",
       "      <td>2005</td>\n",
       "      <td>2286.0</td>\n",
       "      <td>Low</td>\n",
       "      <td>2012-05-10</td>\n",
       "      <td>650K</td>\n",
       "      <td>...</td>\n",
       "      <td>NaN</td>\n",
       "      <td>NaN</td>\n",
       "      <td>NaN</td>\n",
       "      <td>NaN</td>\n",
       "      <td>NaN</td>\n",
       "      <td>None or Unspecified</td>\n",
       "      <td>PAT</td>\n",
       "      <td>None or Unspecified</td>\n",
       "      <td>NaN</td>\n",
       "      <td>NaN</td>\n",
       "    </tr>\n",
       "  </tbody>\n",
       "</table>\n",
       "<p>5 rows × 52 columns</p>\n",
       "</div>"
      ],
      "text/plain": [
       "   SalesID  MachineID  ModelID  datasource  auctioneerID  YearMade  \\\n",
       "0  1227829    1006309     3168         121             3      1999   \n",
       "1  1227844    1022817     7271         121             3      1000   \n",
       "2  1227847    1031560    22805         121             3      2004   \n",
       "3  1227848      56204     1269         121             3      2006   \n",
       "4  1227863    1053887    22312         121             3      2005   \n",
       "\n",
       "   MachineHoursCurrentMeter UsageBand   saledate fiModelDesc  ...  \\\n",
       "0                    3688.0       Low 2012-05-03        580G  ...   \n",
       "1                   28555.0      High 2012-05-10         936  ...   \n",
       "2                    6038.0    Medium 2012-05-10    EC210BLC  ...   \n",
       "3                    8940.0      High 2012-05-10       330CL  ...   \n",
       "4                    2286.0       Low 2012-05-10        650K  ...   \n",
       "\n",
       "  Undercarriage_Pad_Width         Stick_Length   Thumb      Pattern_Changer  \\\n",
       "0                     NaN                  NaN     NaN                  NaN   \n",
       "1                     NaN                  NaN     NaN                  NaN   \n",
       "2     None or Unspecified                9' 6\"  Manual  None or Unspecified   \n",
       "3     None or Unspecified  None or Unspecified  Manual                  Yes   \n",
       "4                     NaN                  NaN     NaN                  NaN   \n",
       "\n",
       "  Grouser_Type     Backhoe_Mounting Blade_Type      Travel_Controls  \\\n",
       "0          NaN                  NaN        NaN                  NaN   \n",
       "1          NaN                  NaN        NaN                  NaN   \n",
       "2       Double                  NaN        NaN                  NaN   \n",
       "3       Triple                  NaN        NaN                  NaN   \n",
       "4          NaN  None or Unspecified        PAT  None or Unspecified   \n",
       "\n",
       "  Differential_Type Steering_Controls  \n",
       "0               NaN               NaN  \n",
       "1          Standard      Conventional  \n",
       "2               NaN               NaN  \n",
       "3               NaN               NaN  \n",
       "4               NaN               NaN  \n",
       "\n",
       "[5 rows x 52 columns]"
      ]
     },
     "execution_count": 6,
     "metadata": {},
     "output_type": "execute_result"
    }
   ],
   "source": [
    "# Import the test data\n",
    "df_test = pd.read_csv(\"../data/bluebook-for-bulldozers/Test.csv\",\n",
    "                      low_memory=False,\n",
    "                      parse_dates=[\"saledate\"])\n",
    "\n",
    "df_test.head()"
   ]
  },
  {
   "cell_type": "code",
   "execution_count": 7,
   "id": "c59fb482",
   "metadata": {},
   "outputs": [],
   "source": [
    "# # Make predictions on the test dataset\n",
    "# test_preds = ideal_model.predict(df_test)\n",
    "\n",
    "# # ValueError: could not convert string to float: 'Low'"
   ]
  },
  {
   "cell_type": "code",
   "execution_count": 8,
   "id": "f3cd071f",
   "metadata": {},
   "outputs": [
    {
     "data": {
      "text/plain": [
       "SalesID                         0\n",
       "MachineID                       0\n",
       "ModelID                         0\n",
       "datasource                      0\n",
       "auctioneerID                    0\n",
       "YearMade                        0\n",
       "MachineHoursCurrentMeter    10328\n",
       "UsageBand                   10623\n",
       "saledate                        0\n",
       "fiModelDesc                     0\n",
       "fiBaseModel                     0\n",
       "fiSecondaryDesc              3975\n",
       "fiModelSeries               10451\n",
       "fiModelDescriptor            9433\n",
       "ProductSize                  6409\n",
       "fiProductClassDesc              0\n",
       "state                           0\n",
       "ProductGroup                    0\n",
       "ProductGroupDesc                0\n",
       "Drive_System                 9698\n",
       "Enclosure                       2\n",
       "Forks                        6149\n",
       "Pad_Type                    10349\n",
       "Ride_Control                 8216\n",
       "Stick                       10349\n",
       "Transmission                 7639\n",
       "Turbocharged                10349\n",
       "Blade_Extension             11806\n",
       "Blade_Width                 11806\n",
       "Enclosure_Type              11806\n",
       "Engine_Horsepower           11806\n",
       "Hydraulics                   2142\n",
       "Pushblock                   11806\n",
       "Ripper                       9753\n",
       "Scarifier                   11806\n",
       "Tip_Control                 11806\n",
       "Tire_Size                    9679\n",
       "Coupler                      4856\n",
       "Coupler_System              10391\n",
       "Grouser_Tracks              10391\n",
       "Hydraulics_Flow             10391\n",
       "Track_Type                   9063\n",
       "Undercarriage_Pad_Width      9059\n",
       "Stick_Length                 9063\n",
       "Thumb                        9062\n",
       "Pattern_Changer              9063\n",
       "Grouser_Type                 9063\n",
       "Backhoe_Mounting            10406\n",
       "Blade_Type                  10399\n",
       "Travel_Controls             10399\n",
       "Differential_Type           10328\n",
       "Steering_Controls           10328\n",
       "dtype: int64"
      ]
     },
     "execution_count": 8,
     "metadata": {},
     "output_type": "execute_result"
    }
   ],
   "source": [
    "df_test.isna().sum()"
   ]
  },
  {
   "cell_type": "code",
   "execution_count": 9,
   "id": "550448f8",
   "metadata": {},
   "outputs": [
    {
     "name": "stdout",
     "output_type": "stream",
     "text": [
      "<class 'pandas.core.frame.DataFrame'>\n",
      "RangeIndex: 12457 entries, 0 to 12456\n",
      "Data columns (total 52 columns):\n",
      " #   Column                    Non-Null Count  Dtype         \n",
      "---  ------                    --------------  -----         \n",
      " 0   SalesID                   12457 non-null  int64         \n",
      " 1   MachineID                 12457 non-null  int64         \n",
      " 2   ModelID                   12457 non-null  int64         \n",
      " 3   datasource                12457 non-null  int64         \n",
      " 4   auctioneerID              12457 non-null  int64         \n",
      " 5   YearMade                  12457 non-null  int64         \n",
      " 6   MachineHoursCurrentMeter  2129 non-null   float64       \n",
      " 7   UsageBand                 1834 non-null   object        \n",
      " 8   saledate                  12457 non-null  datetime64[ns]\n",
      " 9   fiModelDesc               12457 non-null  object        \n",
      " 10  fiBaseModel               12457 non-null  object        \n",
      " 11  fiSecondaryDesc           8482 non-null   object        \n",
      " 12  fiModelSeries             2006 non-null   object        \n",
      " 13  fiModelDescriptor         3024 non-null   object        \n",
      " 14  ProductSize               6048 non-null   object        \n",
      " 15  fiProductClassDesc        12457 non-null  object        \n",
      " 16  state                     12457 non-null  object        \n",
      " 17  ProductGroup              12457 non-null  object        \n",
      " 18  ProductGroupDesc          12457 non-null  object        \n",
      " 19  Drive_System              2759 non-null   object        \n",
      " 20  Enclosure                 12455 non-null  object        \n",
      " 21  Forks                     6308 non-null   object        \n",
      " 22  Pad_Type                  2108 non-null   object        \n",
      " 23  Ride_Control              4241 non-null   object        \n",
      " 24  Stick                     2108 non-null   object        \n",
      " 25  Transmission              4818 non-null   object        \n",
      " 26  Turbocharged              2108 non-null   object        \n",
      " 27  Blade_Extension           651 non-null    object        \n",
      " 28  Blade_Width               651 non-null    object        \n",
      " 29  Enclosure_Type            651 non-null    object        \n",
      " 30  Engine_Horsepower         651 non-null    object        \n",
      " 31  Hydraulics                10315 non-null  object        \n",
      " 32  Pushblock                 651 non-null    object        \n",
      " 33  Ripper                    2704 non-null   object        \n",
      " 34  Scarifier                 651 non-null    object        \n",
      " 35  Tip_Control               651 non-null    object        \n",
      " 36  Tire_Size                 2778 non-null   object        \n",
      " 37  Coupler                   7601 non-null   object        \n",
      " 38  Coupler_System            2066 non-null   object        \n",
      " 39  Grouser_Tracks            2066 non-null   object        \n",
      " 40  Hydraulics_Flow           2066 non-null   object        \n",
      " 41  Track_Type                3394 non-null   object        \n",
      " 42  Undercarriage_Pad_Width   3398 non-null   object        \n",
      " 43  Stick_Length              3394 non-null   object        \n",
      " 44  Thumb                     3395 non-null   object        \n",
      " 45  Pattern_Changer           3394 non-null   object        \n",
      " 46  Grouser_Type              3394 non-null   object        \n",
      " 47  Backhoe_Mounting          2051 non-null   object        \n",
      " 48  Blade_Type                2058 non-null   object        \n",
      " 49  Travel_Controls           2058 non-null   object        \n",
      " 50  Differential_Type         2129 non-null   object        \n",
      " 51  Steering_Controls         2129 non-null   object        \n",
      "dtypes: datetime64[ns](1), float64(1), int64(6), object(44)\n",
      "memory usage: 4.9+ MB\n"
     ]
    }
   ],
   "source": [
    "df_test.info()"
   ]
  },
  {
   "cell_type": "code",
   "execution_count": 10,
   "id": "5c9974a4",
   "metadata": {},
   "outputs": [
    {
     "data": {
      "text/plain": [
       "Index(['SalesID', 'MachineID', 'ModelID', 'datasource', 'auctioneerID',\n",
       "       'YearMade', 'MachineHoursCurrentMeter', 'UsageBand', 'saledate',\n",
       "       'fiModelDesc', 'fiBaseModel', 'fiSecondaryDesc', 'fiModelSeries',\n",
       "       'fiModelDescriptor', 'ProductSize', 'fiProductClassDesc', 'state',\n",
       "       'ProductGroup', 'ProductGroupDesc', 'Drive_System', 'Enclosure',\n",
       "       'Forks', 'Pad_Type', 'Ride_Control', 'Stick', 'Transmission',\n",
       "       'Turbocharged', 'Blade_Extension', 'Blade_Width', 'Enclosure_Type',\n",
       "       'Engine_Horsepower', 'Hydraulics', 'Pushblock', 'Ripper', 'Scarifier',\n",
       "       'Tip_Control', 'Tire_Size', 'Coupler', 'Coupler_System',\n",
       "       'Grouser_Tracks', 'Hydraulics_Flow', 'Track_Type',\n",
       "       'Undercarriage_Pad_Width', 'Stick_Length', 'Thumb', 'Pattern_Changer',\n",
       "       'Grouser_Type', 'Backhoe_Mounting', 'Blade_Type', 'Travel_Controls',\n",
       "       'Differential_Type', 'Steering_Controls'],\n",
       "      dtype='object')"
      ]
     },
     "execution_count": 10,
     "metadata": {},
     "output_type": "execute_result"
    }
   ],
   "source": [
    "df_test.columns"
   ]
  },
  {
   "cell_type": "code",
   "execution_count": 11,
   "id": "4d7a2c6b",
   "metadata": {},
   "outputs": [
    {
     "data": {
      "text/plain": [
       "Index(['SalesID', 'MachineID', 'ModelID', 'datasource', 'auctioneerID',\n",
       "       'YearMade', 'MachineHoursCurrentMeter', 'UsageBand', 'fiModelDesc',\n",
       "       'fiBaseModel',\n",
       "       ...\n",
       "       'Undercarriage_Pad_Width_is_missing', 'Stick_Length_is_missing',\n",
       "       'Thumb_is_missing', 'Pattern_Changer_is_missing',\n",
       "       'Grouser_Type_is_missing', 'Backhoe_Mounting_is_missing',\n",
       "       'Blade_Type_is_missing', 'Travel_Controls_is_missing',\n",
       "       'Differential_Type_is_missing', 'Steering_Controls_is_missing'],\n",
       "      dtype='object', length=102)"
      ]
     },
     "execution_count": 11,
     "metadata": {},
     "output_type": "execute_result"
    }
   ],
   "source": [
    "X_train.columns"
   ]
  },
  {
   "attachments": {},
   "cell_type": "markdown",
   "id": "a6dc25dd",
   "metadata": {},
   "source": [
    "### Preprocessing the data (getting the test dataset in the same format as our training dataset)"
   ]
  },
  {
   "cell_type": "code",
   "execution_count": 12,
   "id": "11b456a1",
   "metadata": {},
   "outputs": [],
   "source": [
    "def preprocess_data(df):\n",
    "    \"\"\"\n",
    "    Performs transformations on df and returns transformed df.\n",
    "    \"\"\"\n",
    "    df[\"saleYear\"] = df.saledate.dt.year\n",
    "    df[\"saleMonth\"] = df.saledate.dt.month\n",
    "    df[\"saleDay\"] = df.saledate.dt.day\n",
    "    df[\"saleDayOfWeek\"] = df.saledate.dt.dayofweek\n",
    "    df[\"saleDayOfYear\"] = df.saledate.dt.dayofyear\n",
    "    \n",
    "    df.drop(\"saledate\", axis=1, inplace=True)\n",
    "    \n",
    "    # Fill the numeric rows with median\n",
    "    for label, content in df.items():\n",
    "        if pd.api.types.is_numeric_dtype(content):\n",
    "            if pd.isnull(content).sum():\n",
    "                # Add a binary column which tells us if the data was missing or not\n",
    "                df[label+\"_is_missing\"] = pd.isnull(content)\n",
    "                # Fill missing numeric values with median\n",
    "                df[label] = content.fillna(content.median())\n",
    "    \n",
    "        # Filled categorical missing data and turn categories into numbers\n",
    "        if not pd.api.types.is_numeric_dtype(content):\n",
    "            df[label+\"_is_missing\"] = pd.isnull(content)\n",
    "            # We add +1 to the category code because pandas encodes missing categories as -1\n",
    "            df[label] = pd.Categorical(content).codes+1\n",
    "    \n",
    "    return df"
   ]
  }
 ],
 "metadata": {
  "kernelspec": {
   "display_name": "Python 3",
   "language": "python",
   "name": "python3"
  },
  "language_info": {
   "codemirror_mode": {
    "name": "ipython",
    "version": 3
   },
   "file_extension": ".py",
   "mimetype": "text/x-python",
   "name": "python",
   "nbconvert_exporter": "python",
   "pygments_lexer": "ipython3",
   "version": "3.10.8"
  },
  "vscode": {
   "interpreter": {
    "hash": "434d186b2765b94255b656aa41f17eff7bec9ec240788e87583f679a1c7ef224"
   }
  }
 },
 "nbformat": 4,
 "nbformat_minor": 5
}
